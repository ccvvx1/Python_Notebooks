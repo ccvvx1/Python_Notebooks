{
  "nbformat": 4,
  "nbformat_minor": 0,
  "metadata": {
    "colab": {
      "provenance": []
    },
    "kernelspec": {
      "name": "python3",
      "display_name": "Python 3"
    },
    "language_info": {
      "name": "python"
    }
  },
  "cells": [
    {
      "cell_type": "code",
      "execution_count": null,
      "metadata": {
        "id": "wg8Gbzadf48O"
      },
      "outputs": [],
      "source": [
        "!pip install f2"
      ]
    },
    {
      "cell_type": "code",
      "source": [
        "%%writefile tk.yaml\n",
        "tiktok:\n",
        "  cookie: tt_csrf_token=GQtBoi7v-dEjd6z6K4Tteb7DvQPavNf6O5DQ;ttwid=1%7CGlHc57of1lQRzXj3YGHQ4psL9UhaC5sFOBmaH4i60EM%7C1728547985%7C72a9bbf66cd5deb6fe3fcfa607f941550e21545cb59760788615750579e3c4d1;tt_chain_token=GVModHn23AL1sJiPZOiqMQ==;_ttp=2UKqvY0XL7jTmAaZPJyWk6sXxkO; tiktok_webapp_theme=light; ak_bmsc=1A91487B4E30BE89361A8A2867936D10~000000000000000000000000000000~YAAQzRAjF0bXxWmSAQAAzgJZdRmzGj2Cy/KD/s5U+W0TkY2Id4HGbUrXqjLxv7uRzns47o3FN5kD2BXj5VclPt+uionHXIH83E7lLKuPlW42u0fxn0yWEjTclzsPkI1HpKndLBv5w8DJ75yz0iLOIBkFUOSPg1xIieJs3s81IswlikJRhwJ/k7st+DW14/cvdV/T7OsXdcvVfoNz+AmZVdrhA4n+OINeFBcUGzvLfL30Vhp6eRY+8nCtU+o/FMRuPmaSn/3Ayj6VQ7xL8IwwOB4/veN0WoHRQRGjCx1yo5EK4UN6qDkCbWgbYojgtEIONmJ4NesnKKbBXcwlNPBaYsA7q8JP9v05r97EOqeXZLCzyYceeGP0aNawgIYZEvcKUJ236ImNGNQiJuI=; delay_guest_mode_vid=5; tt_chain_token=kMIN7s3wz12Dr/7/PFD9CQ==; passport_csrf_token=5b49decb8c5a1fd125c3def33405b2d7; passport_csrf_token_default=5b49decb8c5a1fd125c3def33405b2d7; s_v_web_id=verify_m2300fhb_S02Q2WCe_GOQo_4fmd_BKSu_IpGpmbC2nDhz; passport_auth_status=a55bfde504cb0b6b3bc67c30fae726ba%2C; passport_auth_status_ss=a55bfde504cb0b6b3bc67c30fae726ba%2C; store-country-code=tw; store-country-code-src=uid; last_login_method=google; odin_tt=fce22d119b4f773cf9988dc739102251fa1ac18736d5ab7a17b2720232a00d70; sid_guard=43e50cdb29f264468b513ffd0c40a41a%7C1728547485%7C21600%7CThu%2C+10-Oct-2024+14%3A04%3A45+GMT; uid_tt=db10e8e6e740bf5889c01b3dd1ac0861; uid_tt_ss=db10e8e6e740bf5889c01b3dd1ac0861; sid_tt=43e50cdb29f264468b513ffd0c40a41a; sessionid=43e50cdb29f264468b513ffd0c40a41a; sessionid_ss=43e50cdb29f264468b513ffd0c40a41a; sid_ucp_v1=1.0.0-KDQ5M2IxOTE0NjBiNjVjMjFhNmFmMjA4MjFkYzhiMTI5MTJmNjllNmQKCRCdlZ64BhizCxADGgNteTIiIDQzZTUwY2RiMjlmMjY0NDY4YjUxM2ZmZDBjNDBhNDFh; ssid_ucp_v1=1.0.0-KDQ5M2IxOTE0NjBiNjVjMjFhNmFmMjA4MjFkYzhiMTI5MTJmNjllNmQKCRCdlZ64BhizCxADGgNteTIiIDQzZTUwY2RiMjlmMjY0NDY4YjUxM2ZmZDBjNDBhNDFh; bm_sv=22D97170CA3BDF8D8D0980DEA53BEBE0~YAAQzsbfF66ueXKSAQAAOnx1dRnfV4vjF+GME0pGT3XY942AOD+JldvgmGkaDEQ92UQYSkKYLUhl8kl5mpaejBM45zpIq3Hlb/Q8zTovzrWvFiwwZLMrza5jNNO2DL3tkf0bvkMYsmxsZtJbFbkQAlDUtS+Nu1Z/ZAkT1fr375N/4Se16t9xwFmAYj681sewuM2MBRi0D6ZqbLx8ERIEwAPWGezg9OH4pw5J7g1PCeSArLfpERvjjAzOSwvqN/kMgA==~1; tiktok_webapp_theme_source=system; perf_feed_cache={%22expireTimestamp%22:1728720000000%2C%22itemIds%22:[%227402330217403976991%22%2C%227392620659903401247%22%2C%227399467813406100778%22]}; msToken=TJo74MPqNJTz3tp6v31gkWWxagLc4qDNWWRpZba-SkRneyj70m9SP5JIZTuJz9BSmCswzWaTN7ha-oF1GBDW4rBv2UuVhkK_IHFSAjsCNvfEgs22DKSfDDuSL_qOGyPH-GCI_q16vQj1tUhHqtVLuIw=; msToken=AbLsxV8IHS8DIRsHGCPw0tHfL8zHV-uKHPAywDm6hw21OQOiTv9l66SAxFxow0nHPAEFiFj3cKZ-847nZ0xtKrPY2_q5JCns6aM2bmc5sGkNHbbElXRxngNyvmqO2PSitbiJNRsGQKMGleHfZxbzXwc=passport_fe_beating_status=false\n",
        "  cover: null\n",
        "  desc: null\n",
        "  folderize: null\n",
        "  interval: all\n",
        "  keyword: null\n",
        "  languages: null\n",
        "  max_connections: null\n",
        "  max_counts: null\n",
        "  max_retries: null\n",
        "  max_tasks: null\n",
        "  mode: post\n",
        "  music: null\n",
        "  naming: null\n",
        "  page_counts: null\n",
        "  path: null\n",
        "  timeout: null\n",
        "  url: https://www.tiktok.com/@khaby.lame?lang=en"
      ],
      "metadata": {
        "id": "gppdjtnxf937"
      },
      "execution_count": null,
      "outputs": []
    },
    {
      "cell_type": "code",
      "source": [
        "!f2 tk -c tk.yaml"
      ],
      "metadata": {
        "id": "steU0FAmgCxT"
      },
      "execution_count": null,
      "outputs": []
    },
    {
      "cell_type": "code",
      "source": [
        "import asyncio\n",
        "from f2.apps.tiktok.utils import DeviceIdManager\n",
        "\n",
        "\n",
        "async def main():\n",
        "    device_id = await DeviceIdManager.gen_device_id()\n",
        "    print(device_id)\n",
        "    device_id = await DeviceIdManager.gen_device_id(full_cookie=True)\n",
        "    print(device_id)\n",
        "\n",
        "\n",
        "if __name__ == \"__main__\":\n",
        "    asyncio.run(main())"
      ],
      "metadata": {
        "id": "OMn4s2irgOG6"
      },
      "execution_count": null,
      "outputs": []
    }
  ]
}