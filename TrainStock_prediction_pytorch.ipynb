{
  "cells": [
    {
      "cell_type": "code",
      "source": [
        "!pip install akshare\n"
      ],
      "metadata": {
        "id": "kD1Trci5Tufd"
      },
      "execution_count": null,
      "outputs": []
    },
    {
      "cell_type": "code",
      "source": [
        "import akshare as ak\n",
        "\n",
        "# 获取股票基本信息\n",
        "stock_basic = ak.stock_zh_a_spot()\n",
        "print(\"股票基本信息：\")\n",
        "print(stock_basic)\n",
        "\n",
        "# 获取某只股票的历史数据（以中国平安为例，股票代码为601318）\n",
        "stock_code = '601318'\n",
        "stock_history = ak.stock_zh_a_daily(symbol=stock_code)\n",
        "print(\"\\n中国平安历史交易数据：\")\n",
        "print(stock_history)\n",
        "\n",
        "# 获取某个股票的实时行情\n",
        "stock_realtime = ak.stock_zh_a_tick_tx(symbol=stock_code)\n",
        "print(\"\\n中国平安实时行情：\")\n",
        "print(stock_realtime)\n"
      ],
      "metadata": {
        "id": "b6yin_ATTyO0"
      },
      "execution_count": null,
      "outputs": []
    },
    {
      "cell_type": "code",
      "source": [
        "!pip install yfinance"
      ],
      "metadata": {
        "id": "HF4V7xbVCl_U"
      },
      "execution_count": null,
      "outputs": []
    },
    {
      "cell_type": "code",
      "source": [
        "import yfinance as yf\n",
        "stock_symbol = 'AAPL'\n",
        "start_date = '2023-01-01'\n",
        "end_date = '2023-12-31'\n",
        "stock_data = yf.download(stock_symbol, start=start_date, end=end_date)\n",
        "print(stock_data.head())\n",
        "\n",
        "# 保存为 CSV 文件\n",
        "file_name = '/kaggle/input/amazon.csv'\n",
        "stock_data.to_csv(file_name)\n",
        "\n",
        "print(f\"数据已保存为 {file_name}\")"
      ],
      "metadata": {
        "id": "K6J2_j0DCpNW"
      },
      "execution_count": null,
      "outputs": []
    },
    {
      "cell_type": "code",
      "source": [
        "!mkdir -p /kaggle/input"
      ],
      "metadata": {
        "id": "fcOABX6qly_3"
      },
      "execution_count": null,
      "outputs": []
    },
    {
      "cell_type": "code",
      "source": [
        "import shutil\n",
        "import os\n",
        "\n",
        "# 原始文件路径\n",
        "source_file = '/kaggle/input/amazon.csv'\n",
        "\n",
        "# 目标目录\n",
        "destination_dir = '/kaggle/input/'\n",
        "\n",
        "# 复制文件\n",
        "for i in range(200):\n",
        "    new_file_name = f'amazon_copy_{i + 1}.csv'\n",
        "    destination_file = os.path.join(destination_dir, new_file_name)\n",
        "    shutil.copy(source_file, destination_file)\n",
        "\n",
        "print(\"文件复制完成！\")\n"
      ],
      "metadata": {
        "id": "af8XuyGkn4ey"
      },
      "execution_count": null,
      "outputs": []
    },
    {
      "metadata": {
        "_uuid": "8f2839f25d086af736a60e9eeb907d3b93b6e0e5",
        "_cell_guid": "b1076dfc-b9ad-4769-8c92-a6c4dae69d19",
        "trusted": true,
        "id": "CbHXI5I4hp_o"
      },
      "cell_type": "code",
      "source": [
        "# This Python 3 environment comes with many helpful analytics libraries installed\n",
        "# It is defined by the kaggle/python Docker image: https://github.com/kaggle/docker-python\n",
        "# For example, here's several helpful packages to load\n",
        "\n",
        "import numpy as np # linear algebra\n",
        "import pandas as pd # data processing, CSV file I/O (e.g. pd.read_csv)\n",
        "\n",
        "# Input data files are available in the read-only \"../input/\" directory\n",
        "# For example, running this (by clicking run or pressing Shift+Enter) will list all files under the input directory\n",
        "\n",
        "import os\n",
        "for dirname, _, filenames in os.walk('/kaggle/input'):\n",
        "    for filename in filenames:\n",
        "        print(os.path.join(dirname, filename))\n",
        "\n",
        "# You can write up to 5GB to the current directory (/kaggle/working/) that gets preserved as output when you create a version using \"Save & Run All\"\n",
        "# You can also write temporary files to /kaggle/temp/, but they won't be saved outside of the current session"
      ],
      "execution_count": null,
      "outputs": []
    },
    {
      "metadata": {
        "trusted": true,
        "id": "rtylZCOghp_r"
      },
      "cell_type": "code",
      "source": [
        "# filepath = '/kaggle/input/stock-time-series-20050101-to-20171231/AMZN_2006-01-01_to_2018-01-01.csv'\n",
        "filepath = '/kaggle/input/amazon.csv'\n",
        "data = pd.read_csv(filepath)\n",
        "data = data.sort_values('Date')\n",
        "data.head()"
      ],
      "execution_count": null,
      "outputs": []
    },
    {
      "source": [
        "from google.colab import sheets\n",
        "sheet = sheets.InteractiveSheet(df=data)"
      ],
      "cell_type": "code",
      "execution_count": null,
      "outputs": [],
      "metadata": {
        "cellView": "form",
        "id": "XF4qSyRFmQx_"
      }
    },
    {
      "metadata": {
        "trusted": true,
        "id": "8ehyV_uihp_s"
      },
      "cell_type": "code",
      "source": [
        "import matplotlib.pyplot as plt\n",
        "import seaborn as sns\n",
        "\n",
        "sns.set_style(\"darkgrid\")\n",
        "plt.figure(figsize = (15,9))\n",
        "plt.plot(data[['Close']])\n",
        "plt.xticks(range(0,data.shape[0],500),data['Date'].loc[::500],rotation=45)\n",
        "plt.title(\"Amazon Stock Price\",fontsize=18, fontweight='bold')\n",
        "plt.xlabel('Date',fontsize=18)\n",
        "plt.ylabel('Close Price (USD)',fontsize=18)\n",
        "plt.show()"
      ],
      "execution_count": null,
      "outputs": []
    },
    {
      "metadata": {
        "id": "rrjH2cFEhp_s"
      },
      "cell_type": "markdown",
      "source": [
        "## Normalize data"
      ]
    },
    {
      "metadata": {
        "trusted": true,
        "id": "PRbJWPxZhp_t"
      },
      "cell_type": "code",
      "source": [
        "price = data[['Close']]\n",
        "price.info()"
      ],
      "execution_count": null,
      "outputs": []
    },
    {
      "metadata": {
        "trusted": true,
        "id": "jZZj-Etjhp_u"
      },
      "cell_type": "code",
      "source": [
        "from sklearn.preprocessing import MinMaxScaler\n",
        "\n",
        "scaler = MinMaxScaler(feature_range=(-1, 1))\n",
        "price['Close'] = scaler.fit_transform(price['Close'].values.reshape(-1,1))"
      ],
      "execution_count": null,
      "outputs": []
    },
    {
      "metadata": {
        "trusted": true,
        "id": "8_6ou6Aghp_u"
      },
      "cell_type": "code",
      "source": [
        "def split_data(stock, lookback):\n",
        "    data_raw = stock.to_numpy() # convert to numpy array\n",
        "    data = []\n",
        "\n",
        "    # create all possible sequences of length seq_len\n",
        "    for index in range(len(data_raw) - lookback):\n",
        "        data.append(data_raw[index: index + lookback])\n",
        "\n",
        "    data = np.array(data);\n",
        "    test_set_size = int(np.round(0.2*data.shape[0]));\n",
        "    train_set_size = data.shape[0] - (test_set_size);\n",
        "\n",
        "    x_train = data[:train_set_size,:-1,:]\n",
        "    y_train = data[:train_set_size,-1,:]\n",
        "\n",
        "    x_test = data[train_set_size:,:-1]\n",
        "    y_test = data[train_set_size:,-1,:]\n",
        "\n",
        "    return [x_train, y_train, x_test, y_test]"
      ],
      "execution_count": null,
      "outputs": []
    },
    {
      "cell_type": "code",
      "source": [
        "# import numpy as np\n",
        "\n",
        "# def split_data(stock, lookback, batch_size):\n",
        "#     data_raw = stock.to_numpy()  # 转换为numpy数组\n",
        "#     data = []\n",
        "\n",
        "#     # 创建所有可能的序列\n",
        "#     for index in range(len(data_raw) - lookback):\n",
        "#         data.append(data_raw[index: index + lookback])\n",
        "\n",
        "#     data = np.array(data)\n",
        "#     test_set_size = int(np.round(0.2 * data.shape[0]))\n",
        "#     train_set_size = data.shape[0] - test_set_size\n",
        "\n",
        "#     x_train = data[:train_set_size, :-1, :]\n",
        "#     y_train = data[:train_set_size, -1, :]\n",
        "\n",
        "#     x_test = data[train_set_size:, :-1]\n",
        "#     y_test = data[train_set_size:, -1, :]\n",
        "\n",
        "#     # 将训练数据切割成多个批次\n",
        "#     num_batches = train_set_size // batch_size\n",
        "#     x_train_batches = np.array_split(x_train, num_batches)\n",
        "#     y_train_batches = np.array_split(y_train, num_batches)\n",
        "\n",
        "#     return x_train_batches, y_train_batches, x_test, y_test\n",
        "\n",
        "# # 使用示例\n",
        "# # x_train_batches, y_train_batches, x_test, y_test = split_data(stock_df, lookback=10, batch_size=32)\n"
      ],
      "metadata": {
        "id": "OCMeyk0eOvor"
      },
      "execution_count": null,
      "outputs": []
    },
    {
      "metadata": {
        "trusted": true,
        "id": "FCnldhq6hp_v"
      },
      "cell_type": "code",
      "source": [
        "lookback = 20 # choose sequence length\n",
        "x_train, y_train, x_test, y_test = split_data(price, lookback)\n",
        "# x_train_batches, y_train_batches, x_test, y_test = split_data(price, lookback=20, batch_size=32)\n",
        "\n",
        "# # 打印批次的数量和每个批次的形状\n",
        "# print('Number of training batches:', len(x_train_batches))\n",
        "# if len(x_train_batches) > 0:\n",
        "#     print('Shape of each training batch (x):', x_train_batches[0].shape)\n",
        "#     print('Shape of each training batch (y):', y_train_batches[0].shape)\n",
        "\n",
        "# print('x_test.shape = ', x_test.shape)\n",
        "# print('y_test.shape = ', y_test.shape)\n",
        "\n",
        "print('x_train.shape = ',x_train.shape)\n",
        "print('y_train.shape = ',y_train.shape)\n",
        "print('x_test.shape = ',x_test.shape)\n",
        "print('y_test.shape = ',y_test.shape)\n",
        "\n",
        "print(\"x_train: \", x_train)\n",
        "print(\"y_train: \", y_train)"
      ],
      "execution_count": null,
      "outputs": []
    },
    {
      "cell_type": "code",
      "source": [
        "# import torch\n",
        "\n",
        "# # 将每个批次转换为 PyTorch 张量\n",
        "# x_train_batches_tensor = [torch.from_numpy(batch).type(torch.Tensor) for batch in x_train_batches]\n",
        "# y_train_batches_tensor = [torch.from_numpy(batch).type(torch.Tensor) for batch in y_train_batches]\n",
        "\n",
        "# # 对测试数据进行转换\n",
        "# x_test_tensor = torch.from_numpy(x_test).type(torch.Tensor)\n",
        "# y_test_lstm_tensor = torch.from_numpy(y_test).type(torch.Tensor)\n",
        "# y_test_gru_tensor = torch.from_numpy(y_test).type(torch.Tensor)\n"
      ],
      "metadata": {
        "id": "46LVTLPgQsjK"
      },
      "execution_count": null,
      "outputs": []
    },
    {
      "metadata": {
        "trusted": true,
        "id": "KlpuZoBWhp_v"
      },
      "cell_type": "code",
      "source": [
        "import torch\n",
        "import torch.nn as nn\n",
        "\n",
        "x_train = torch.from_numpy(x_train).type(torch.Tensor)\n",
        "x_test = torch.from_numpy(x_test).type(torch.Tensor)\n",
        "y_train_lstm = torch.from_numpy(y_train).type(torch.Tensor)\n",
        "y_test_lstm = torch.from_numpy(y_test).type(torch.Tensor)\n",
        "y_train_gru = torch.from_numpy(y_train).type(torch.Tensor)\n",
        "y_test_gru = torch.from_numpy(y_test).type(torch.Tensor)"
      ],
      "execution_count": null,
      "outputs": []
    },
    {
      "metadata": {
        "trusted": true,
        "id": "V85LW0gbhp_w"
      },
      "cell_type": "code",
      "source": [
        "import torch\n",
        "import torch.nn as nn\n",
        "\n",
        "input_dim = 1\n",
        "hidden_dim = 32\n",
        "num_layers = 2\n",
        "output_dim = 1\n",
        "num_epochs = 100"
      ],
      "execution_count": null,
      "outputs": []
    },
    {
      "metadata": {
        "trusted": true,
        "id": "t17ZYBnYhp_w"
      },
      "cell_type": "code",
      "source": [
        "class LSTM(nn.Module):\n",
        "    def __init__(self, input_dim, hidden_dim, num_layers, output_dim):\n",
        "        super(LSTM, self).__init__()\n",
        "        self.hidden_dim = hidden_dim\n",
        "        self.num_layers = num_layers\n",
        "\n",
        "        self.lstm = nn.LSTM(input_dim, hidden_dim, num_layers, batch_first=True)\n",
        "        self.fc = nn.Linear(hidden_dim, output_dim)\n",
        "\n",
        "    def forward(self, x):\n",
        "        h0 = torch.zeros(self.num_layers, x.size(0), self.hidden_dim).requires_grad_()\n",
        "        c0 = torch.zeros(self.num_layers, x.size(0), self.hidden_dim).requires_grad_()\n",
        "        out, (hn, cn) = self.lstm(x, (h0.detach(), c0.detach()))\n",
        "        out = self.fc(out[:, -1, :])\n",
        "        return out"
      ],
      "execution_count": null,
      "outputs": []
    },
    {
      "metadata": {
        "trusted": true,
        "id": "Si8ZswUHhp_x"
      },
      "cell_type": "code",
      "source": [
        "model = LSTM(input_dim=input_dim, hidden_dim=hidden_dim, output_dim=output_dim, num_layers=num_layers)\n",
        "criterion = torch.nn.MSELoss(reduction='mean')\n",
        "optimiser = torch.optim.Adam(model.parameters(), lr=0.01)"
      ],
      "execution_count": null,
      "outputs": []
    },
    {
      "cell_type": "code",
      "source": [
        "# from re import X\n",
        "# import time\n",
        "\n",
        "\n",
        "# # 训练模型的代码\n",
        "# hist = np.zeros(num_epochs)\n",
        "# start_time = time.time()\n",
        "# y_train_pred = None\n",
        "# y_train_lstm = None\n",
        "\n",
        "# # 训练模型\n",
        "# for t in range(num_epochs):\n",
        "#     for x_batch, y_batch in zip(x_train_batches_tensor, y_train_batches_tensor):\n",
        "#         # 前向传播\n",
        "#         y_train_pred = model(x_batch)\n",
        "#         y_train_lstm = y_batch\n",
        "\n",
        "#         # 计算损失\n",
        "#         loss = criterion(y_train_pred, y_batch)\n",
        "#         print(f\"Epoch: {t}, MSE: {loss.item()}\")\n",
        "\n",
        "#         # 反向传播\n",
        "#         optimiser.zero_grad()\n",
        "#         loss.backward()\n",
        "#         optimiser.step()\n",
        "\n",
        "# print(\"y_train_pred : \", y_train_pred)\n",
        "\n",
        "# # 计算总训练时间\n",
        "# training_time = time.time() - start_time\n",
        "# print(\"Total training time: {}\".format(training_time))\n"
      ],
      "metadata": {
        "id": "bLRsufQaPqYi"
      },
      "execution_count": null,
      "outputs": []
    },
    {
      "metadata": {
        "trusted": true,
        "id": "fx4S1tcNhp_x"
      },
      "cell_type": "code",
      "source": [
        "from re import X\n",
        "import time\n",
        "\n",
        "hist = np.zeros(num_epochs)\n",
        "start_time = time.time()\n",
        "lstm = []\n",
        "\n",
        "for t in range(num_epochs):\n",
        "\n",
        "    y_train_pred = model(x_train)\n",
        "\n",
        "    loss = criterion(y_train_pred, y_train_lstm)\n",
        "    print(\"Epoch \", t, \"MSE: \", loss.item())\n",
        "    hist[t] = loss.item()\n",
        "\n",
        "    optimiser.zero_grad()\n",
        "    loss.backward()\n",
        "    optimiser.step()\n",
        "\n",
        "training_time = time.time()-start_time\n",
        "print(\"Training time: {}\".format(training_time))"
      ],
      "execution_count": null,
      "outputs": []
    },
    {
      "metadata": {
        "trusted": true,
        "id": "bHIAMIClhp_y"
      },
      "cell_type": "code",
      "source": [
        "predict = pd.DataFrame(scaler.inverse_transform(y_train_pred.detach().numpy()))\n",
        "original = pd.DataFrame(scaler.inverse_transform(y_train_lstm.detach().numpy()))"
      ],
      "execution_count": null,
      "outputs": []
    },
    {
      "metadata": {
        "trusted": true,
        "id": "6PaCFImzhp_y"
      },
      "cell_type": "code",
      "source": [
        "import seaborn as sns\n",
        "sns.set_style(\"darkgrid\")\n",
        "\n",
        "fig = plt.figure()\n",
        "fig.subplots_adjust(hspace=0.2, wspace=0.2)\n",
        "\n",
        "plt.subplot(1, 2, 1)\n",
        "ax = sns.lineplot(x = original.index, y = original[0], label=\"Data\", color='royalblue')\n",
        "ax = sns.lineplot(x = predict.index, y = predict[0], label=\"Training Prediction (LSTM)\", color='tomato')\n",
        "ax.set_title('Stock price', size = 14, fontweight='bold')\n",
        "ax.set_xlabel(\"Days\", size = 14)\n",
        "ax.set_ylabel(\"Cost (USD)\", size = 14)\n",
        "ax.set_xticklabels('', size=10)\n",
        "\n",
        "\n",
        "plt.subplot(1, 2, 2)\n",
        "ax = sns.lineplot(data=hist, color='royalblue')\n",
        "ax.set_xlabel(\"Epoch\", size = 14)\n",
        "ax.set_ylabel(\"Loss\", size = 14)\n",
        "ax.set_title(\"Training Loss\", size = 14, fontweight='bold')\n",
        "fig.set_figheight(6)\n",
        "fig.set_figwidth(16)"
      ],
      "execution_count": null,
      "outputs": []
    },
    {
      "metadata": {
        "trusted": true,
        "id": "_UijTuZJhp_y"
      },
      "cell_type": "code",
      "source": [
        "import math, time\n",
        "from sklearn.metrics import mean_squared_error\n",
        "\n",
        "# make predictions\n",
        "y_test_pred = model(x_test_tensor)\n",
        "lstm = []\n",
        "# invert predictions\n",
        "y_train_pred = scaler.inverse_transform(y_train_pred.detach().numpy())\n",
        "y_train = scaler.inverse_transform(y_train_lstm.detach().numpy())\n",
        "y_test_pred = scaler.inverse_transform(y_test_pred.detach().numpy())\n",
        "y_test = scaler.inverse_transform(y_test_lstm_tensor.detach().numpy())\n",
        "\n",
        "# calculate root mean squared error\n",
        "trainScore = math.sqrt(mean_squared_error(y_train[:,0], y_train_pred[:,0]))\n",
        "print('Train Score: %.2f RMSE' % (trainScore))\n",
        "testScore = math.sqrt(mean_squared_error(y_test[:,0], y_test_pred[:,0]))\n",
        "print('Test Score: %.2f RMSE' % (testScore))\n",
        "lstm.append(trainScore)\n",
        "lstm.append(testScore)\n",
        "lstm.append(training_time)"
      ],
      "execution_count": null,
      "outputs": []
    },
    {
      "metadata": {
        "trusted": true,
        "id": "ePRLskNmhp_y"
      },
      "cell_type": "code",
      "source": [
        "# shift train predictions for plotting\n",
        "trainPredictPlot = np.empty_like(price)\n",
        "trainPredictPlot[:, :] = np.nan\n",
        "trainPredictPlot[lookback:len(y_train_pred)+lookback, :] = y_train_pred\n",
        "\n",
        "# shift test predictions for plotting\n",
        "testPredictPlot = np.empty_like(price)\n",
        "testPredictPlot[:, :] = np.nan\n",
        "testPredictPlot[len(y_train_pred)+lookback-1:len(price)-1, :] = y_test_pred\n",
        "\n",
        "original = scaler.inverse_transform(price['Close'].values.reshape(-1,1))\n",
        "\n",
        "predictions = np.append(trainPredictPlot, testPredictPlot, axis=1)\n",
        "predictions = np.append(predictions, original, axis=1)\n",
        "result = pd.DataFrame(predictions)"
      ],
      "execution_count": null,
      "outputs": []
    },
    {
      "metadata": {
        "trusted": true,
        "id": "-tH05FABhp_z"
      },
      "cell_type": "code",
      "source": [
        "import plotly.express as px\n",
        "import plotly.graph_objects as go\n",
        "\n",
        "fig = go.Figure()\n",
        "fig.add_trace(go.Scatter(go.Scatter(x=result.index, y=result[0],\n",
        "                    mode='lines',\n",
        "                    name='Train prediction')))\n",
        "fig.add_trace(go.Scatter(x=result.index, y=result[1],\n",
        "                    mode='lines',\n",
        "                    name='Test prediction'))\n",
        "fig.add_trace(go.Scatter(go.Scatter(x=result.index, y=result[2],\n",
        "                    mode='lines',\n",
        "                    name='Actual Value')))\n",
        "fig.update_layout(\n",
        "    xaxis=dict(\n",
        "        showline=True,\n",
        "        showgrid=True,\n",
        "        showticklabels=False,\n",
        "        linecolor='white',\n",
        "        linewidth=2\n",
        "    ),\n",
        "    yaxis=dict(\n",
        "        title_text='Close (USD)',\n",
        "        titlefont=dict(\n",
        "            family='Rockwell',\n",
        "            size=12,\n",
        "            color='white',\n",
        "        ),\n",
        "        showline=True,\n",
        "        showgrid=True,\n",
        "        showticklabels=True,\n",
        "        linecolor='white',\n",
        "        linewidth=2,\n",
        "        ticks='outside',\n",
        "        tickfont=dict(\n",
        "            family='Rockwell',\n",
        "            size=12,\n",
        "            color='white',\n",
        "        ),\n",
        "    ),\n",
        "    showlegend=True,\n",
        "    template = 'plotly_dark'\n",
        "\n",
        ")\n",
        "\n",
        "\n",
        "\n",
        "annotations = []\n",
        "annotations.append(dict(xref='paper', yref='paper', x=0.0, y=1.05,\n",
        "                              xanchor='left', yanchor='bottom',\n",
        "                              text='Results (LSTM)',\n",
        "                              font=dict(family='Rockwell',\n",
        "                                        size=26,\n",
        "                                        color='white'),\n",
        "                              showarrow=False))\n",
        "fig.update_layout(annotations=annotations)\n",
        "\n",
        "fig.show()"
      ],
      "execution_count": null,
      "outputs": []
    },
    {
      "metadata": {
        "trusted": true,
        "collapsed": true,
        "id": "Ibf2gv4Qhp_z"
      },
      "cell_type": "code",
      "source": [
        "!pip install chart-studio"
      ],
      "execution_count": null,
      "outputs": []
    },
    {
      "metadata": {
        "trusted": true,
        "id": "LXr3BZs6hp_z"
      },
      "cell_type": "code",
      "source": [
        "# import chart_studio.plotly as py\n",
        "# import chart_studio\n",
        "\n",
        "# chart_studio.tools.set_credentials_file(username='rodolfo_saldanha', api_key='zWJIVWJs23wfiAp516Mh')\n",
        "# py.iplot(fig, filename='stock_prediction_lstm')"
      ],
      "execution_count": null,
      "outputs": []
    },
    {
      "metadata": {
        "trusted": true,
        "id": "rjpe8i-Php_z"
      },
      "cell_type": "code",
      "source": [
        "class GRU(nn.Module):\n",
        "    def __init__(self, input_dim, hidden_dim, num_layers, output_dim):\n",
        "        super(GRU, self).__init__()\n",
        "        self.hidden_dim = hidden_dim\n",
        "        self.num_layers = num_layers\n",
        "\n",
        "        self.gru = nn.GRU(input_dim, hidden_dim, num_layers, batch_first=True)\n",
        "        self.fc = nn.Linear(hidden_dim, output_dim)\n",
        "\n",
        "    def forward(self, x):\n",
        "        h0 = torch.zeros(self.num_layers, x.size(0), self.hidden_dim).requires_grad_()\n",
        "        out, (hn) = self.gru(x, (h0.detach()))\n",
        "        out = self.fc(out[:, -1, :])\n",
        "        return out"
      ],
      "execution_count": null,
      "outputs": []
    },
    {
      "metadata": {
        "trusted": true,
        "id": "nfWFqY2nhp_0"
      },
      "cell_type": "code",
      "source": [
        "model = GRU(input_dim=input_dim, hidden_dim=hidden_dim, output_dim=output_dim, num_layers=num_layers)\n",
        "criterion = torch.nn.MSELoss(reduction='mean')\n",
        "optimiser = torch.optim.Adam(model.parameters(), lr=0.01)"
      ],
      "execution_count": null,
      "outputs": []
    },
    {
      "metadata": {
        "trusted": true,
        "id": "AhuqmiqMhp_0"
      },
      "cell_type": "code",
      "source": [
        "hist = np.zeros(num_epochs)\n",
        "start_time = time.time()\n",
        "gru = []\n",
        "\n",
        "for t in range(num_epochs):\n",
        "    y_train_pred = model(x_train)\n",
        "\n",
        "    loss = criterion(y_train_pred, y_train_gru)\n",
        "    print(\"Epoch \", t, \"MSE: \", loss.item())\n",
        "    hist[t] = loss.item()\n",
        "\n",
        "    optimiser.zero_grad()\n",
        "    loss.backward()\n",
        "    optimiser.step()\n",
        "\n",
        "training_time = time.time()-start_time\n",
        "print(\"Training time: {}\".format(training_time))"
      ],
      "execution_count": null,
      "outputs": []
    },
    {
      "metadata": {
        "trusted": true,
        "id": "QeuZe2BRhp_0"
      },
      "cell_type": "code",
      "source": [
        "predict = pd.DataFrame(scaler.inverse_transform(y_train_pred.detach().numpy()))\n",
        "original = pd.DataFrame(scaler.inverse_transform(y_train_gru.detach().numpy()))"
      ],
      "execution_count": null,
      "outputs": []
    },
    {
      "metadata": {
        "trusted": true,
        "id": "lf5fFYRWhp_0"
      },
      "cell_type": "code",
      "source": [
        "import seaborn as sns\n",
        "sns.set_style(\"darkgrid\")\n",
        "\n",
        "fig = plt.figure()\n",
        "fig.subplots_adjust(hspace=0.2, wspace=0.2)\n",
        "\n",
        "plt.subplot(1, 2, 1)\n",
        "ax = sns.lineplot(x = original.index, y = original[0], label=\"Data\", color='royalblue')\n",
        "ax = sns.lineplot(x = predict.index, y = predict[0], label=\"Training Prediction (GRU)\", color='tomato')\n",
        "ax.set_title('Stock price', size = 14, fontweight='bold')\n",
        "ax.set_xlabel(\"Days\", size = 14)\n",
        "ax.set_ylabel(\"Cost (USD)\", size = 14)\n",
        "ax.set_xticklabels('', size=10)\n",
        "\n",
        "\n",
        "plt.subplot(1, 2, 2)\n",
        "ax = sns.lineplot(data=hist, color='royalblue')\n",
        "ax.set_xlabel(\"Epoch\", size = 14)\n",
        "ax.set_ylabel(\"Loss\", size = 14)\n",
        "ax.set_title(\"Training Loss\", size = 14, fontweight='bold')\n",
        "fig.set_figheight(6)\n",
        "fig.set_figwidth(16)"
      ],
      "execution_count": null,
      "outputs": []
    },
    {
      "metadata": {
        "trusted": true,
        "id": "CVjVWgzThp_1"
      },
      "cell_type": "code",
      "source": [
        "import math, time\n",
        "from sklearn.metrics import mean_squared_error\n",
        "\n",
        "# make predictions\n",
        "y_test_pred = model(x_test)\n",
        "\n",
        "# invert predictions\n",
        "y_train_pred = scaler.inverse_transform(y_train_pred.detach().numpy())\n",
        "y_train = scaler.inverse_transform(y_train_gru.detach().numpy())\n",
        "y_test_pred = scaler.inverse_transform(y_test_pred.detach().numpy())\n",
        "y_test = scaler.inverse_transform(y_test_gru.detach().numpy())\n",
        "\n",
        "# calculate root mean squared error\n",
        "trainScore = math.sqrt(mean_squared_error(y_train[:,0], y_train_pred[:,0]))\n",
        "print('Train Score: %.2f RMSE' % (trainScore))\n",
        "testScore = math.sqrt(mean_squared_error(y_test[:,0], y_test_pred[:,0]))\n",
        "print('Test Score: %.2f RMSE' % (testScore))\n",
        "gru.append(trainScore)\n",
        "gru.append(testScore)\n",
        "gru.append(training_time)"
      ],
      "execution_count": null,
      "outputs": []
    },
    {
      "metadata": {
        "trusted": true,
        "id": "T0SJoPGthp_1"
      },
      "cell_type": "code",
      "source": [
        "# shift train predictions for plotting\n",
        "trainPredictPlot = np.empty_like(price)\n",
        "trainPredictPlot[:, :] = np.nan\n",
        "trainPredictPlot[lookback:len(y_train_pred)+lookback, :] = y_train_pred\n",
        "\n",
        "# shift test predictions for plotting\n",
        "testPredictPlot = np.empty_like(price)\n",
        "testPredictPlot[:, :] = np.nan\n",
        "testPredictPlot[len(y_train_pred)+lookback-1:len(price)-1, :] = y_test_pred\n",
        "\n",
        "original = scaler.inverse_transform(price['Close'].values.reshape(-1,1))\n",
        "\n",
        "predictions = np.append(trainPredictPlot, testPredictPlot, axis=1)\n",
        "predictions = np.append(predictions, original, axis=1)\n",
        "result = pd.DataFrame(predictions)"
      ],
      "execution_count": null,
      "outputs": []
    },
    {
      "metadata": {
        "trusted": true,
        "id": "lHNND6KThp_1"
      },
      "cell_type": "code",
      "source": [
        "import plotly.express as px\n",
        "import plotly.graph_objects as go\n",
        "\n",
        "fig = go.Figure()\n",
        "fig.add_trace(go.Scatter(go.Scatter(x=result.index, y=result[0],\n",
        "                    mode='lines',\n",
        "                    name='Train prediction')))\n",
        "fig.add_trace(go.Scatter(x=result.index, y=result[1],\n",
        "                    mode='lines',\n",
        "                    name='Test prediction'))\n",
        "fig.add_trace(go.Scatter(go.Scatter(x=result.index, y=result[2],\n",
        "                    mode='lines',\n",
        "                    name='Actual Value')))\n",
        "fig.update_layout(\n",
        "    xaxis=dict(\n",
        "        showline=True,\n",
        "        showgrid=True,\n",
        "        showticklabels=False,\n",
        "        linecolor='white',\n",
        "        linewidth=2\n",
        "    ),\n",
        "    yaxis=dict(\n",
        "        title_text='Close (USD)',\n",
        "        titlefont=dict(\n",
        "            family='Rockwell',\n",
        "            size=12,\n",
        "            color='white',\n",
        "        ),\n",
        "        showline=True,\n",
        "        showgrid=True,\n",
        "        showticklabels=True,\n",
        "        linecolor='white',\n",
        "        linewidth=2,\n",
        "        ticks='outside',\n",
        "        tickfont=dict(\n",
        "            family='Rockwell',\n",
        "            size=12,\n",
        "            color='white',\n",
        "        ),\n",
        "    ),\n",
        "    showlegend=True,\n",
        "    template = 'plotly_dark'\n",
        "\n",
        ")\n",
        "\n",
        "\n",
        "\n",
        "annotations = []\n",
        "annotations.append(dict(xref='paper', yref='paper', x=0.0, y=1.05,\n",
        "                              xanchor='left', yanchor='bottom',\n",
        "                              text='Results (GRU)',\n",
        "                              font=dict(family='Rockwell',\n",
        "                                        size=26,\n",
        "                                        color='white'),\n",
        "                              showarrow=False))\n",
        "fig.update_layout(annotations=annotations)\n",
        "\n",
        "fig.show()"
      ],
      "execution_count": null,
      "outputs": []
    },
    {
      "metadata": {
        "trusted": true,
        "id": "lrpcQQ68hp_1"
      },
      "cell_type": "code",
      "source": [
        "lstm = pd.DataFrame(lstm, columns=['LSTM'])\n",
        "gru = pd.DataFrame(gru, columns=['GRU'])\n",
        "result = pd.concat([lstm, gru], axis=1, join='inner')\n",
        "result.index = ['Train RMSE', 'Test RMSE', 'Train Time']\n",
        "result"
      ],
      "execution_count": null,
      "outputs": []
    },
    {
      "metadata": {
        "trusted": true,
        "id": "5k92uuQ4hp_2"
      },
      "cell_type": "code",
      "source": [
        "py.iplot(fig, filename='stock_prediction_gru')"
      ],
      "execution_count": null,
      "outputs": []
    }
  ],
  "metadata": {
    "kernelspec": {
      "display_name": "Python 3",
      "name": "python3"
    },
    "language_info": {
      "pygments_lexer": "ipython3",
      "nbconvert_exporter": "python",
      "version": "3.6.4",
      "file_extension": ".py",
      "codemirror_mode": {
        "name": "ipython",
        "version": 3
      },
      "name": "python",
      "mimetype": "text/x-python"
    },
    "colab": {
      "provenance": []
    }
  },
  "nbformat": 4,
  "nbformat_minor": 0
}