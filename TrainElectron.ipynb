{
  "nbformat": 4,
  "nbformat_minor": 0,
  "metadata": {
    "colab": {
      "provenance": []
    },
    "kernelspec": {
      "name": "python3",
      "display_name": "Python 3"
    },
    "language_info": {
      "name": "python"
    }
  },
  "cells": [
    {
      "cell_type": "code",
      "execution_count": null,
      "metadata": {
        "id": "lzYmN0hSjyNj"
      },
      "outputs": [],
      "source": [
        "!apt-get install -y ngrok"
      ]
    },
    {
      "cell_type": "code",
      "source": [
        "# 安装桌面环境和VNC服务器\n",
        "!apt-get update\n",
        "!apt-get install -y xfce4 xfce4-goodies\n",
        "!apt-get install -y tightvncserver\n",
        "!apt-get install -y x11vnc\n",
        "\n",
        "# 设置VNC密码\n",
        "!mkdir -p ~/.vnc\n",
        "!echo \"your_password\" | vncpasswd -f > ~/.vnc/passwd\n",
        "!chmod 600 ~/.vnc/passwd\n",
        "\n",
        "# 启动VNC服务器\n",
        "!vncserver :1 -geometry 1280x1024 -depth 24\n",
        "\n",
        "# 运行VNC服务\n",
        "!x11vnc -forever -display :1 -nopw -listen localhost -xkb &\n"
      ],
      "metadata": {
        "id": "OspZA9WLlZ1Q"
      },
      "execution_count": null,
      "outputs": []
    },
    {
      "cell_type": "code",
      "source": [
        "!curl -Lo /usr/bin/cloudflared https://github.com/cloudflare/cloudflared/releases/latest/download/cloudflared-linux-amd64 && chmod +x /usr/bin/cloudflared\n"
      ],
      "metadata": {
        "id": "LZEkJQXSljH_"
      },
      "execution_count": null,
      "outputs": []
    },
    {
      "cell_type": "code",
      "source": [
        "!cloudflared tunnel --url localhost:5900"
      ],
      "metadata": {
        "id": "_cvTY8zZykKb"
      },
      "execution_count": null,
      "outputs": []
    }
  ]
}