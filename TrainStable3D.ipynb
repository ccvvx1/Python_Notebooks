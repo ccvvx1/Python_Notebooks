{
  "cells": [
    {
      "cell_type": "markdown",
      "metadata": {
        "id": "rVDV5YJ9Ngdw"
      },
      "source": [
        "# Example usage of [stable-dreamfusion](https://github.com/ashawkey/stable-dreamfusion)\n",
        "Pure-pytorch version"
      ]
    },
    {
      "cell_type": "markdown",
      "metadata": {
        "id": "Od2eF2ZwH_6W"
      },
      "source": [
        "### Check the machine"
      ]
    },
    {
      "cell_type": "code",
      "execution_count": null,
      "metadata": {
        "id": "vfirUQVeMvm8"
      },
      "outputs": [],
      "source": [
        "! nvidia-smi"
      ]
    },
    {
      "cell_type": "markdown",
      "metadata": {
        "id": "-HG8OCXSIGLQ"
      },
      "source": [
        "### Setup"
      ]
    },
    {
      "cell_type": "code",
      "execution_count": null,
      "metadata": {
        "id": "Y-LhllLN-5ph"
      },
      "outputs": [],
      "source": [
        "#@title install dependencies\n",
        "! git clone https://github.com/ashawkey/stable-dreamfusion.git\n",
        "\n",
        "%cd stable-dreamfusion\n",
        "\n",
        "# install requirements\n",
        "! pip install -r requirements.txt\n",
        "! pip install git+https://github.com/NVlabs/nvdiffrast/"
      ]
    },
    {
      "cell_type": "markdown",
      "metadata": {
        "id": "VklXFNisIrDo"
      },
      "source": [
        "### Training & Testing\n",
        "* It takes about 0.7s per training step, so the default 5000 training steps take around 1 hour to finish. A larger `Training_iters` usually leads to better results.\n",
        "* If CUDA OOM, try to decrease `Num_steps`, `Upsample_steps`, and `Training_nerf_resolution`.\n",
        "* If the NeRF fails to learn anything (empty scene, only background), try to decrease `Lambda_entropy` which regularizes the learned opacity."
      ]
    },
    {
      "cell_type": "code",
      "execution_count": 2,
      "metadata": {
        "id": "M4WGvOBBI1ae"
      },
      "outputs": [],
      "source": [
        "#@markdown ####**Training Settings:**\n",
        "Prompt_text = \"an apple\" #@param {type: 'string'}\n",
        "Training_iters = 3000 #@param {type: 'integer'}\n",
        "Learning_rate = 1e-3 #@param {type: 'number'}\n",
        "Training_nerf_resolution = 64  #@param {type: 'integer'}\n",
        "# CUDA_ray = True #@param {type: 'boolean'}\n",
        "# View_dependent_prompt = True #@param {type: 'boolean'}\n",
        "# FP16 = True #@param {type: 'boolean'}\n",
        "Seed = 0 #@param {type: 'integer'}\n",
        "Lambda_entropy = 1e-4 #@param {type: 'number'}\n",
        "Num_steps = 64 #@param {type: 'number'}\n",
        "Upsample_steps = 32 #@param {type: 'number'}\n",
        "Checkpoint = 'latest' #@param {type: 'string'}\n",
        "\n",
        "#@markdown ---\n",
        "\n",
        "#@markdown ####**Output Settings:**\n",
        "Workspace = \"trial\" #@param{type: 'string'}\n",
        "# Save_mesh = True #@param {type: 'boolean'}\n",
        "\n",
        "# processings\n",
        "Prompt_text = \"'\" + Prompt_text + \"'\""
      ]
    },
    {
      "cell_type": "code",
      "source": [
        "%cd /content/stable-dreamfusion"
      ],
      "metadata": {
        "id": "eiOmTFP79nNi"
      },
      "execution_count": null,
      "outputs": []
    },
    {
      "cell_type": "code",
      "execution_count": null,
      "metadata": {
        "id": "XHHjlAkwJDa5"
      },
      "outputs": [],
      "source": [
        "#@title start training\n",
        "import torch\n",
        "torch.cuda.empty_cache()\n",
        "\n",
        "%run main.py -O2 --albedo --text {Prompt_text} --workspace {Workspace} --iters {Training_iters} --lr {Learning_rate} --w {Training_nerf_resolution} --h {Training_nerf_resolution} --seed {Seed} --lambda_entropy {Lambda_entropy} --ckpt {Checkpoint} --save_mesh --num_steps {Num_steps} --upsample_steps {Upsample_steps}"
      ]
    },
    {
      "cell_type": "code",
      "execution_count": 5,
      "metadata": {
        "cellView": "form",
        "id": "BJ6-1tkaRTpy"
      },
      "outputs": [],
      "source": [
        "#@markdown ####**Testing Settings:**\n",
        "\n",
        "Workspace_test = \"trial\" #@param{type: 'string'}\n",
        "# Save_mesh = True #@param {type: 'boolean'}"
      ]
    },
    {
      "cell_type": "code",
      "execution_count": null,
      "metadata": {
        "id": "6liVfcPZRGWD"
      },
      "outputs": [],
      "source": [
        "#@title testing\n",
        "import torch\n",
        "torch.cuda.empty_cache()\n",
        "\n",
        "%run main.py -O2 --test --workspace {Workspace_test} --save_mesh --max_ray_batch 1024"
      ]
    },
    {
      "cell_type": "markdown",
      "metadata": {
        "id": "VxzEhYT5PQIV"
      },
      "source": [
        "### Display results\n",
        "* RGB and Depth video are located at `{Workspace}/results/*.mp4`\n",
        "* Mesh is under `{Workspace}/mesh/`, you could see three files named `mesh.obj`, `mesh.mtl`, and `albedo.png`."
      ]
    },
    {
      "cell_type": "code",
      "execution_count": null,
      "metadata": {
        "id": "lmmiVeUDOXI6"
      },
      "outputs": [],
      "source": [
        "#@title display RGB video\n",
        "import os\n",
        "import glob\n",
        "from IPython.display import HTML\n",
        "from base64 import b64encode\n",
        "\n",
        "def get_latest_file(path):\n",
        "  dir_list = glob.glob(path)\n",
        "  dir_list.sort(key=lambda x: os.path.getmtime(x))\n",
        "  return dir_list[-1]\n",
        "\n",
        "def show_video(video_path, video_width = 600):\n",
        "\n",
        "  video_file = open(video_path, \"r+b\").read()\n",
        "  video_url = f\"data:video/mp4;base64,{b64encode(video_file).decode()}\"\n",
        "\n",
        "  return HTML(f\"\"\"<video width={video_width} controls><source src=\"{video_url}\"></video>\"\"\")\n",
        "\n",
        "rgb_video = get_latest_file(os.path.join(Workspace, 'results', '*_rgb.mp4'))\n",
        "show_video(rgb_video)"
      ]
    }
  ],
  "metadata": {
    "accelerator": "GPU",
    "colab": {
      "provenance": []
    },
    "gpuClass": "standard",
    "kernelspec": {
      "display_name": "Python 3",
      "name": "python3"
    },
    "language_info": {
      "name": "python"
    }
  },
  "nbformat": 4,
  "nbformat_minor": 0
}